{
 "cells": [
  {
   "cell_type": "code",
   "execution_count": 4,
   "id": "d79116cf",
   "metadata": {},
   "outputs": [
    {
     "name": "stdout",
     "output_type": "stream",
     "text": [
      "1.3.3\n",
      "0.5.2\n",
      "4.1.2\n"
     ]
    }
   ],
   "source": [
    "from konlpy.tag import Mecab\n",
    "from collections import Counter\n",
    "import tensorflow as tf\n",
    "import numpy as np\n",
    "import pandas as pd\n",
    "import pandas\n",
    "import konlpy\n",
    "import gensim\n",
    "\n",
    "print(pandas.__version__)\n",
    "print(konlpy.__version__)\n",
    "print(gensim.__version__)\n",
    "mecab = Mecab()"
   ]
  },
  {
   "cell_type": "markdown",
   "id": "9b499f3d",
   "metadata": {},
   "source": [
    "# Load Model & Datast"
   ]
  },
  {
   "cell_type": "markdown",
   "id": "3d9db5e6",
   "metadata": {},
   "source": [
    "load word2vec model "
   ]
  },
  {
   "cell_type": "code",
   "execution_count": 245,
   "id": "dca5801c",
   "metadata": {},
   "outputs": [
    {
     "data": {
      "text/plain": [
       "array([ 1.038851  , -1.1634965 ,  2.2386286 ,  0.8971453 , -2.088168  ,\n",
       "       -4.1942534 , -0.02519768, -0.69813883, -0.2908033 , -1.4651134 ,\n",
       "       -2.6863668 ,  0.7999443 , -0.6957915 , -0.5018775 ,  3.5025773 ,\n",
       "        0.21326113, -0.6588098 , -1.1900496 ,  0.61399573,  2.1247969 ,\n",
       "        0.1549463 ,  3.0840218 ,  3.1680267 , -3.9143991 ,  3.6073153 ,\n",
       "        0.5315545 , -0.3511633 , -1.107248  ,  1.7767181 , -0.95981866,\n",
       "        2.6072454 , -0.00697957, -3.27628   ,  1.558644  ,  0.81922376,\n",
       "        1.9231955 ,  3.7026553 , -0.53824735, -0.4920138 ,  2.4657123 ,\n",
       "       -2.620749  , -0.08950733,  0.61453176,  1.8866426 ,  0.257866  ,\n",
       "       -2.7827141 ,  2.9129577 , -0.6313133 ,  2.0387425 , -4.222685  ,\n",
       "       -2.7560544 ,  1.7903243 , -1.3080189 , -2.5531402 , -0.43849912,\n",
       "       -3.1073573 , -0.29090825,  5.1817617 ,  1.9604833 , -5.1421604 ,\n",
       "       -0.71431434,  4.5624633 , -0.55525815, -3.3019137 ,  1.6761336 ,\n",
       "       -1.9606539 , -0.2726863 ,  0.2465995 ,  1.2685091 ,  1.6055685 ,\n",
       "        1.8344896 ,  1.2752469 ,  0.99503314, -2.3348706 , -0.9290329 ,\n",
       "       -1.5920266 ,  5.693834  ,  1.1132814 , -0.9603875 , -1.970055  ,\n",
       "       -1.0120267 , -2.7289615 , -2.7759619 ,  3.214084  ,  1.8573734 ,\n",
       "       -1.3495721 , -0.10321241,  3.434593  , -2.8573685 , -1.9004927 ,\n",
       "       -1.6801298 , -2.805677  ,  1.7723105 , -0.41865307, -2.310913  ,\n",
       "       -6.2761464 , -0.8376036 ,  2.4590037 ,  2.1697695 , -4.440443  ],\n",
       "      dtype=float32)"
      ]
     },
     "execution_count": 245,
     "metadata": {},
     "output_type": "execute_result"
    }
   ],
   "source": [
    "from gensim.models.keyedvectors import Word2VecKeyedVectors\n",
    "word2vec_file_path = '/workspace/userdisk/sentiment_classification/data/word2vec_ko.model'\n",
    "word_vectors = Word2VecKeyedVectors.load(word2vec_file_path)\n",
    "word_vectors.wv['끝']"
   ]
  },
  {
   "cell_type": "code",
   "execution_count": 247,
   "id": "ac9f598d",
   "metadata": {},
   "outputs": [
    {
     "data": {
      "text/plain": [
       "[('마지막', 0.6325399875640869),\n",
       " ('결판', 0.5526015758514404),\n",
       " ('발목', 0.5465342402458191),\n",
       " ('산산조각', 0.5418900847434998),\n",
       " ('막바지', 0.5412753820419312),\n",
       " ('싫증', 0.5256820917129517),\n",
       " ('양쪽', 0.5253474116325378),\n",
       " ('무릎', 0.5246764421463013),\n",
       " ('후', 0.5051813721656799),\n",
       " ('이어진', 0.5038793087005615)]"
      ]
     },
     "execution_count": 247,
     "metadata": {},
     "output_type": "execute_result"
    }
   ],
   "source": [
    "word_vectors.wv.similar_by_word(\"끝\")"
   ]
  },
  {
   "cell_type": "code",
   "execution_count": 48,
   "id": "043f03ad",
   "metadata": {},
   "outputs": [
    {
     "data": {
      "text/html": [
       "<div>\n",
       "<style scoped>\n",
       "    .dataframe tbody tr th:only-of-type {\n",
       "        vertical-align: middle;\n",
       "    }\n",
       "\n",
       "    .dataframe tbody tr th {\n",
       "        vertical-align: top;\n",
       "    }\n",
       "\n",
       "    .dataframe thead th {\n",
       "        text-align: right;\n",
       "    }\n",
       "</style>\n",
       "<table border=\"1\" class=\"dataframe\">\n",
       "  <thead>\n",
       "    <tr style=\"text-align: right;\">\n",
       "      <th></th>\n",
       "      <th>id</th>\n",
       "      <th>document</th>\n",
       "      <th>label</th>\n",
       "    </tr>\n",
       "  </thead>\n",
       "  <tbody>\n",
       "    <tr>\n",
       "      <th>0</th>\n",
       "      <td>9976970</td>\n",
       "      <td>아 더빙.. 진짜 짜증나네요 목소리</td>\n",
       "      <td>0</td>\n",
       "    </tr>\n",
       "    <tr>\n",
       "      <th>1</th>\n",
       "      <td>3819312</td>\n",
       "      <td>흠...포스터보고 초딩영화줄....오버연기조차 가볍지 않구나</td>\n",
       "      <td>1</td>\n",
       "    </tr>\n",
       "    <tr>\n",
       "      <th>2</th>\n",
       "      <td>10265843</td>\n",
       "      <td>너무재밓었다그래서보는것을추천한다</td>\n",
       "      <td>0</td>\n",
       "    </tr>\n",
       "    <tr>\n",
       "      <th>3</th>\n",
       "      <td>9045019</td>\n",
       "      <td>교도소 이야기구먼 ..솔직히 재미는 없다..평점 조정</td>\n",
       "      <td>0</td>\n",
       "    </tr>\n",
       "    <tr>\n",
       "      <th>4</th>\n",
       "      <td>6483659</td>\n",
       "      <td>사이몬페그의 익살스런 연기가 돋보였던 영화!스파이더맨에서 늙어보이기만 했던 커스틴 ...</td>\n",
       "      <td>1</td>\n",
       "    </tr>\n",
       "  </tbody>\n",
       "</table>\n",
       "</div>"
      ],
      "text/plain": [
       "         id                                           document  label\n",
       "0   9976970                                아 더빙.. 진짜 짜증나네요 목소리      0\n",
       "1   3819312                  흠...포스터보고 초딩영화줄....오버연기조차 가볍지 않구나      1\n",
       "2  10265843                                  너무재밓었다그래서보는것을추천한다      0\n",
       "3   9045019                      교도소 이야기구먼 ..솔직히 재미는 없다..평점 조정      0\n",
       "4   6483659  사이몬페그의 익살스런 연기가 돋보였던 영화!스파이더맨에서 늙어보이기만 했던 커스틴 ...      1"
      ]
     },
     "execution_count": 48,
     "metadata": {},
     "output_type": "execute_result"
    }
   ],
   "source": [
    "train_data = pd.read_table('~/aiffel/sentiment_classification/data/ratings_train.txt')\n",
    "test_data = pd.read_table('~/aiffel/sentiment_classification/data/ratings_test.txt')\n",
    "\n",
    "train_data.head()"
   ]
  },
  {
   "cell_type": "markdown",
   "id": "a98ce8a1",
   "metadata": {},
   "source": [
    "# Data Loader"
   ]
  },
  {
   "cell_type": "code",
   "execution_count": 49,
   "id": "69813e57",
   "metadata": {},
   "outputs": [],
   "source": [
    "tokenizer = Mecab()\n",
    "stopwords = ['의','가','이','은','들','는','좀','잘','걍','과','도','를','으로','자','에','와','한','하다']\n",
    "\n",
    "def load_data(train_data, test_data, num_words=10000):\n",
    "    train_data.drop_duplicates(subset=['document'], inplace=True)\n",
    "    train_data = train_data.dropna(how = 'any') \n",
    "    test_data.drop_duplicates(subset=['document'], inplace=True)\n",
    "    test_data = test_data.dropna(how = 'any') \n",
    "    \n",
    "    X_train = []\n",
    "    for sentence in train_data['document']:\n",
    "        temp_X = tokenizer.morphs(sentence) # 토큰화\n",
    "        temp_X = [word for word in temp_X if not word in stopwords] # 불용어 제거\n",
    "        X_train.append(temp_X)\n",
    "\n",
    "    X_test = []\n",
    "    for sentence in test_data['document']:\n",
    "        temp_X = tokenizer.morphs(sentence) # 토큰화\n",
    "        temp_X = [word for word in temp_X if not word in stopwords] # 불용어 제거\n",
    "        X_test.append(temp_X)\n",
    "    \n",
    "    words = np.concatenate(X_train).tolist()\n",
    "    counter = Counter(words)\n",
    "    counter = counter.most_common(10000-4)\n",
    "    vocab = ['', '', '', ''] + [key for key, _ in counter]\n",
    "    word_to_index = {word:index for index, word in enumerate(vocab)}\n",
    "        \n",
    "    def wordlist_to_indexlist(wordlist):\n",
    "        return [word_to_index[word] if word in word_to_index else word_to_index[''] for word in wordlist]\n",
    "        \n",
    "    X_train = list(map(wordlist_to_indexlist, X_train))\n",
    "    X_test = list(map(wordlist_to_indexlist, X_test))\n",
    "        \n",
    "    return X_train, np.array(list(train_data['label'])), X_test, np.array(list(test_data['label'])), word_to_index"
   ]
  },
  {
   "cell_type": "code",
   "execution_count": 50,
   "id": "cc859d42",
   "metadata": {},
   "outputs": [],
   "source": [
    "X_train, y_train, X_test, y_test, word_to_index = load_data(train_data, test_data) "
   ]
  },
  {
   "cell_type": "code",
   "execution_count": 116,
   "id": "b2477bdc",
   "metadata": {},
   "outputs": [
    {
     "name": "stdout",
     "output_type": "stream",
     "text": [
      "0: <PAD>\n",
      "1: <BOS>\n",
      "2: <UNK>\n",
      "3: <UNUSED>\n",
      "4: .\n",
      "5: 영화\n",
      "6: 다\n",
      "7: 고\n",
      "8: 하\n",
      "9: 을\n"
     ]
    }
   ],
   "source": [
    "word_to_index[\"<PAD>\"] = 0\n",
    "word_to_index[\"<BOS>\"] = 1\n",
    "word_to_index[\"<UNK>\"] = 2 \n",
    "word_to_index[\"<UNUSED>\"] = 3\n",
    "\n",
    "index_to_word = {index:word for word, index in word_to_index.items()}\n",
    "for i in range(10):\n",
    "    print(f\"{i}: {index_to_word.get(i, '<None>')}\")"
   ]
  },
  {
   "cell_type": "markdown",
   "id": "b446264a",
   "metadata": {},
   "source": [
    "# Feature Engineering"
   ]
  },
  {
   "cell_type": "markdown",
   "id": "6c42d23e",
   "metadata": {},
   "source": [
    "데이터셋 내 문장 길이 분포"
   ]
  },
  {
   "cell_type": "code",
   "execution_count": 52,
   "id": "259292f0",
   "metadata": {},
   "outputs": [
    {
     "name": "stdout",
     "output_type": "stream",
     "text": [
      "문장길이 평균 :  15.96940191154864\n",
      "문장길이 최대 :  116\n",
      "문장길이 표준편차 :  12.843571191092\n"
     ]
    }
   ],
   "source": [
    "total_data_text = list(X_train) + list(X_test)\n",
    "num_tokens = [len(tokens) for tokens in total_data_text]\n",
    "num_tokens = np.array(num_tokens)\n",
    "\n",
    "print('문장길이 평균 : ', np.mean(num_tokens))\n",
    "print('문장길이 최대 : ', np.max(num_tokens))\n",
    "print('문장길이 표준편차 : ', np.std(num_tokens))"
   ]
  },
  {
   "cell_type": "markdown",
   "id": "c7b1db06",
   "metadata": {},
   "source": [
    "적절한 최대 문장 길이 지정"
   ]
  },
  {
   "cell_type": "code",
   "execution_count": 53,
   "id": "a8255413",
   "metadata": {},
   "outputs": [
    {
     "name": "stdout",
     "output_type": "stream",
     "text": [
      "pad_sequences maxlen :  41\n",
      "전체 문장의 0.9342988343341575%가 maxlen 설정값 이내에 포함됩니다. \n"
     ]
    }
   ],
   "source": [
    "max_tokens = np.mean(num_tokens) + 2 * np.std(num_tokens)\n",
    "maxlen = int(max_tokens)\n",
    "print('pad_sequences maxlen : ', maxlen)\n",
    "print(f'전체 문장의 {np.sum(num_tokens < max_tokens) / len(num_tokens)}%가 maxlen 설정값 이내에 포함됩니다. ')"
   ]
  },
  {
   "cell_type": "markdown",
   "id": "c933e787",
   "metadata": {},
   "source": [
    "keras.preprocessing.sequence.pad_sequences 을 활용한 패딩 추가"
   ]
  },
  {
   "cell_type": "code",
   "execution_count": 54,
   "id": "40572d8a",
   "metadata": {},
   "outputs": [
    {
     "name": "stdout",
     "output_type": "stream",
     "text": [
      "(146182, 41) (49157, 41)\n"
     ]
    }
   ],
   "source": [
    "X_train = tf.keras.preprocessing.sequence.pad_sequences(X_train,\n",
    "                                                        value=word_to_index[\"<PAD>\"],\n",
    "                                                        padding='pre',\n",
    "                                                        maxlen=maxlen)\n",
    "\n",
    "X_test = tf.keras.preprocessing.sequence.pad_sequences(X_test,\n",
    "                                                       value=word_to_index[\"<PAD>\"],\n",
    "                                                       padding='pre', \n",
    "                                                       maxlen=maxlen)\n",
    "\n",
    "print(X_train.shape, X_test.shape)"
   ]
  },
  {
   "cell_type": "markdown",
   "id": "97a157f9",
   "metadata": {},
   "source": [
    "# Validation, Train Split"
   ]
  },
  {
   "cell_type": "code",
   "execution_count": 56,
   "id": "ee2e7573",
   "metadata": {},
   "outputs": [
    {
     "name": "stdout",
     "output_type": "stream",
     "text": [
      "(126182, 41) (126182,)\n",
      "(20000, 41) (20000,)\n"
     ]
    }
   ],
   "source": [
    "x_val = X_train[:20000]   \n",
    "y_val = y_train[:20000]\n",
    "partial_x_train = X_train[20000:]  \n",
    "partial_y_train = y_train[20000:]\n",
    "\n",
    "print(partial_x_train.shape, partial_y_train.shape)\n",
    "print(x_val.shape,y_val.shape)\n"
   ]
  },
  {
   "cell_type": "markdown",
   "id": "b5b88915",
   "metadata": {},
   "source": [
    "# Model Build"
   ]
  },
  {
   "cell_type": "code",
   "execution_count": 166,
   "id": "04e6e84b",
   "metadata": {},
   "outputs": [],
   "source": [
    "from tensorflow.keras.models import Sequential, Model\n",
    "from tensorflow.keras.layers import (\n",
    "    Embedding,\n",
    "    LSTM,Bidirectional,\n",
    "    Dense,\n",
    "    Conv1D,\n",
    "    GlobalMaxPooling1D, MaxPooling1D,\n",
    "    Input,\n",
    "    Dropout\n",
    ")\n"
   ]
  },
  {
   "cell_type": "code",
   "execution_count": 64,
   "id": "9e15a967",
   "metadata": {},
   "outputs": [],
   "source": [
    "vocab_size = 10000   \n",
    "word_vector_dim = 16 \n",
    "max_len = maxlen"
   ]
  },
  {
   "cell_type": "markdown",
   "id": "943a231d",
   "metadata": {},
   "source": [
    "모델1. LSTM"
   ]
  },
  {
   "cell_type": "code",
   "execution_count": 167,
   "id": "f32b483b",
   "metadata": {},
   "outputs": [
    {
     "name": "stdout",
     "output_type": "stream",
     "text": [
      "Model: \"sequential_15\"\n",
      "_________________________________________________________________\n",
      "Layer (type)                 Output Shape              Param #   \n",
      "=================================================================\n",
      "embedding_19 (Embedding)     (None, None, 16)          160000    \n",
      "_________________________________________________________________\n",
      "lstm_11 (LSTM)               (None, 8)                 800       \n",
      "_________________________________________________________________\n",
      "dense_36 (Dense)             (None, 8)                 72        \n",
      "_________________________________________________________________\n",
      "dropout_76 (Dropout)         (None, 8)                 0         \n",
      "_________________________________________________________________\n",
      "dense_37 (Dense)             (None, 1)                 9         \n",
      "=================================================================\n",
      "Total params: 160,881\n",
      "Trainable params: 160,881\n",
      "Non-trainable params: 0\n",
      "_________________________________________________________________\n"
     ]
    }
   ],
   "source": [
    "model_lstm = Sequential([\n",
    "    Embedding(vocab_size, word_vector_dim, input_shape=(None,)),\n",
    "    LSTM(8),\n",
    "    Dense(8, activation='relu'),\n",
    "    Dropout(0.3),  \n",
    "    Dense(1, activation='sigmoid')\n",
    "])\n",
    "model_lstm.compile(optimizer='adam', loss='binary_crossentropy', metrics=['accuracy'])\n",
    "model_lstm.summary()"
   ]
  },
  {
   "cell_type": "markdown",
   "id": "47bc2218",
   "metadata": {},
   "source": [
    "모델 2. CNN 1D"
   ]
  },
  {
   "cell_type": "code",
   "execution_count": 168,
   "id": "de588cbf",
   "metadata": {},
   "outputs": [
    {
     "name": "stdout",
     "output_type": "stream",
     "text": [
      "Model: \"sequential_16\"\n",
      "_________________________________________________________________\n",
      "Layer (type)                 Output Shape              Param #   \n",
      "=================================================================\n",
      "embedding_20 (Embedding)     (None, None, 16)          160000    \n",
      "_________________________________________________________________\n",
      "conv1d_11 (Conv1D)           (None, None, 16)          1808      \n",
      "_________________________________________________________________\n",
      "max_pooling1d_4 (MaxPooling1 (None, None, 16)          0         \n",
      "_________________________________________________________________\n",
      "conv1d_12 (Conv1D)           (None, None, 16)          1808      \n",
      "_________________________________________________________________\n",
      "global_max_pooling1d_7 (Glob (None, 16)                0         \n",
      "_________________________________________________________________\n",
      "dense_38 (Dense)             (None, 8)                 136       \n",
      "_________________________________________________________________\n",
      "dropout_77 (Dropout)         (None, 8)                 0         \n",
      "_________________________________________________________________\n",
      "dense_39 (Dense)             (None, 1)                 9         \n",
      "=================================================================\n",
      "Total params: 163,761\n",
      "Trainable params: 163,761\n",
      "Non-trainable params: 0\n",
      "_________________________________________________________________\n"
     ]
    }
   ],
   "source": [
    "model_cnn = Sequential([\n",
    "    Embedding(vocab_size, word_vector_dim,  input_shape=(None,)),\n",
    "    Conv1D(16, 7, activation='relu'),\n",
    "    MaxPooling1D(5),\n",
    "    Conv1D(16, 7, activation='relu'),\n",
    "    GlobalMaxPooling1D(),\n",
    "    Dense(8, activation='relu'),\n",
    "    Dropout(0.3), \n",
    "    Dense(1, activation='sigmoid')\n",
    "])\n",
    "\n",
    "model_cnn.compile(optimizer='adam', loss='binary_crossentropy', metrics=['accuracy'])\n",
    "model_cnn.summary()"
   ]
  },
  {
   "cell_type": "markdown",
   "id": "8ce9a570",
   "metadata": {},
   "source": [
    "모델 3. Bidirectional LSTM\n"
   ]
  },
  {
   "cell_type": "code",
   "execution_count": 175,
   "id": "4524722c",
   "metadata": {},
   "outputs": [
    {
     "name": "stdout",
     "output_type": "stream",
     "text": [
      "Model: \"sequential_19\"\n",
      "_________________________________________________________________\n",
      "Layer (type)                 Output Shape              Param #   \n",
      "=================================================================\n",
      "embedding_23 (Embedding)     (None, None, 16)          160000    \n",
      "_________________________________________________________________\n",
      "bidirectional_3 (Bidirection (None, 16)                1600      \n",
      "_________________________________________________________________\n",
      "dense_44 (Dense)             (None, 8)                 136       \n",
      "_________________________________________________________________\n",
      "dropout_80 (Dropout)         (None, 8)                 0         \n",
      "_________________________________________________________________\n",
      "dense_45 (Dense)             (None, 1)                 9         \n",
      "=================================================================\n",
      "Total params: 161,745\n",
      "Trainable params: 161,745\n",
      "Non-trainable params: 0\n",
      "_________________________________________________________________\n"
     ]
    }
   ],
   "source": [
    "model_bilstm = Sequential([\n",
    "    Embedding(vocab_size, word_vector_dim, input_shape=(None,)),\n",
    "    Bidirectional(LSTM(8)), \n",
    "    Dense(8, activation='relu'),\n",
    "    Dropout(0.3),\n",
    "    Dense(1, activation='sigmoid')\n",
    "])\n",
    "\n",
    "model_bilstm.compile(optimizer='adam', loss='binary_crossentropy', metrics=['accuracy'])\n",
    "model_bilstm.summary()"
   ]
  },
  {
   "cell_type": "markdown",
   "id": "db94d8db",
   "metadata": {},
   "source": [
    "# Train Model"
   ]
  },
  {
   "cell_type": "code",
   "execution_count": 98,
   "id": "0b58f2b8",
   "metadata": {},
   "outputs": [],
   "source": [
    "from tensorflow.keras.callbacks import ModelCheckpoint"
   ]
  },
  {
   "cell_type": "code",
   "execution_count": 176,
   "id": "dde9d8b1",
   "metadata": {},
   "outputs": [],
   "source": [
    "checkpoint_lstm = ModelCheckpoint(\n",
    "    filepath='/workspace/userdisk/sentiment_classification/best_model_lstm.keras',\n",
    "    monitor='val_loss',\n",
    "    save_best_only=True,\n",
    "    verbose=1\n",
    ")\n",
    "\n",
    "checkpoint_cnn = ModelCheckpoint(\n",
    "    filepath='/workspace/userdisk/sentiment_classification/best_model_cnn.keras',\n",
    "    monitor='val_loss',\n",
    "    save_best_only=True,\n",
    "    verbose=1\n",
    ")\n",
    "\n",
    "checkpoint_bilstm = ModelCheckpoint(\n",
    "    filepath='/workspace/userdisk/sentiment_classification/best_model_bilstm.keras',    \n",
    "    monitor='val_loss',             \n",
    "    save_best_only=True,                     \n",
    "    verbose=1\n",
    ")\n"
   ]
  },
  {
   "cell_type": "code",
   "execution_count": 171,
   "id": "d87fce02",
   "metadata": {},
   "outputs": [
    {
     "name": "stdout",
     "output_type": "stream",
     "text": [
      "Epoch 1/20\n",
      "986/986 - 6s - loss: 0.4949 - accuracy: 0.7964 - val_loss: 0.4187 - val_accuracy: 0.8378\n",
      "\n",
      "Epoch 00001: val_loss improved from inf to 0.41869, saving model to /workspace/userdisk/sentiment_classification/best_model_lstm.keras\n",
      "Epoch 2/20\n",
      "986/986 - 4s - loss: 0.3853 - accuracy: 0.8526 - val_loss: 0.3741 - val_accuracy: 0.8493\n",
      "\n",
      "Epoch 00002: val_loss improved from 0.41869 to 0.37415, saving model to /workspace/userdisk/sentiment_classification/best_model_lstm.keras\n",
      "Epoch 3/20\n",
      "986/986 - 4s - loss: 0.3431 - accuracy: 0.8677 - val_loss: 0.3602 - val_accuracy: 0.8530\n",
      "\n",
      "Epoch 00003: val_loss improved from 0.37415 to 0.36023, saving model to /workspace/userdisk/sentiment_classification/best_model_lstm.keras\n",
      "Epoch 4/20\n",
      "986/986 - 4s - loss: 0.3146 - accuracy: 0.8788 - val_loss: 0.3612 - val_accuracy: 0.8540\n",
      "\n",
      "Epoch 00004: val_loss did not improve from 0.36023\n",
      "Epoch 5/20\n",
      "986/986 - 4s - loss: 0.2961 - accuracy: 0.8862 - val_loss: 0.3672 - val_accuracy: 0.8483\n",
      "\n",
      "Epoch 00005: val_loss did not improve from 0.36023\n",
      "Epoch 6/20\n",
      "986/986 - 4s - loss: 0.2816 - accuracy: 0.8936 - val_loss: 0.3888 - val_accuracy: 0.8525\n",
      "\n",
      "Epoch 00006: val_loss did not improve from 0.36023\n",
      "Epoch 7/20\n",
      "986/986 - 4s - loss: 0.2674 - accuracy: 0.8993 - val_loss: 0.3899 - val_accuracy: 0.8543\n",
      "\n",
      "Epoch 00007: val_loss did not improve from 0.36023\n",
      "Epoch 8/20\n",
      "986/986 - 4s - loss: 0.2529 - accuracy: 0.9072 - val_loss: 0.3945 - val_accuracy: 0.8509\n",
      "\n",
      "Epoch 00008: val_loss did not improve from 0.36023\n",
      "Epoch 9/20\n",
      "986/986 - 4s - loss: 0.2410 - accuracy: 0.9131 - val_loss: 0.4127 - val_accuracy: 0.8506\n",
      "\n",
      "Epoch 00009: val_loss did not improve from 0.36023\n",
      "Epoch 10/20\n",
      "986/986 - 4s - loss: 0.2277 - accuracy: 0.9187 - val_loss: 0.4258 - val_accuracy: 0.8472\n",
      "\n",
      "Epoch 00010: val_loss did not improve from 0.36023\n",
      "Epoch 11/20\n",
      "986/986 - 4s - loss: 0.2172 - accuracy: 0.9238 - val_loss: 0.4475 - val_accuracy: 0.8487\n",
      "\n",
      "Epoch 00011: val_loss did not improve from 0.36023\n",
      "Epoch 12/20\n",
      "986/986 - 4s - loss: 0.2058 - accuracy: 0.9293 - val_loss: 0.4725 - val_accuracy: 0.8473\n",
      "\n",
      "Epoch 00012: val_loss did not improve from 0.36023\n",
      "Epoch 13/20\n",
      "986/986 - 4s - loss: 0.1976 - accuracy: 0.9328 - val_loss: 0.4976 - val_accuracy: 0.8468\n",
      "\n",
      "Epoch 00013: val_loss did not improve from 0.36023\n",
      "Epoch 14/20\n",
      "986/986 - 4s - loss: 0.1863 - accuracy: 0.9373 - val_loss: 0.5292 - val_accuracy: 0.8454\n",
      "\n",
      "Epoch 00014: val_loss did not improve from 0.36023\n",
      "Epoch 15/20\n",
      "986/986 - 4s - loss: 0.1800 - accuracy: 0.9397 - val_loss: 0.5331 - val_accuracy: 0.8454\n",
      "\n",
      "Epoch 00015: val_loss did not improve from 0.36023\n",
      "Epoch 16/20\n",
      "986/986 - 4s - loss: 0.1730 - accuracy: 0.9434 - val_loss: 0.5881 - val_accuracy: 0.8462\n",
      "\n",
      "Epoch 00016: val_loss did not improve from 0.36023\n",
      "Epoch 17/20\n",
      "986/986 - 4s - loss: 0.1656 - accuracy: 0.9467 - val_loss: 0.6034 - val_accuracy: 0.8442\n",
      "\n",
      "Epoch 00017: val_loss did not improve from 0.36023\n",
      "Epoch 18/20\n",
      "986/986 - 4s - loss: 0.1618 - accuracy: 0.9482 - val_loss: 0.6482 - val_accuracy: 0.8410\n",
      "\n",
      "Epoch 00018: val_loss did not improve from 0.36023\n",
      "Epoch 19/20\n",
      "986/986 - 4s - loss: 0.1544 - accuracy: 0.9508 - val_loss: 0.6687 - val_accuracy: 0.8411\n",
      "\n",
      "Epoch 00019: val_loss did not improve from 0.36023\n",
      "Epoch 20/20\n",
      "986/986 - 4s - loss: 0.1528 - accuracy: 0.9517 - val_loss: 0.6571 - val_accuracy: 0.8406\n",
      "\n",
      "Epoch 00020: val_loss did not improve from 0.36023\n"
     ]
    }
   ],
   "source": [
    "history_lstm = model_lstm.fit(\n",
    "    partial_x_train, partial_y_train,\n",
    "    validation_data=(x_val, y_val),\n",
    "    epochs=20,\n",
    "    batch_size=128,\n",
    "    verbose = 2,\n",
    "    callbacks=[checkpoint_lstm]\n",
    ")"
   ]
  },
  {
   "cell_type": "code",
   "execution_count": 172,
   "id": "f303b6e8",
   "metadata": {},
   "outputs": [
    {
     "name": "stdout",
     "output_type": "stream",
     "text": [
      "Epoch 1/20\n",
      "986/986 - 4s - loss: 0.4356 - accuracy: 0.7962 - val_loss: 0.3396 - val_accuracy: 0.8502\n",
      "\n",
      "Epoch 00001: val_loss improved from inf to 0.33963, saving model to /workspace/userdisk/sentiment_classification/best_model_cnn.keras\n",
      "Epoch 2/20\n",
      "986/986 - 4s - loss: 0.3308 - accuracy: 0.8683 - val_loss: 0.3287 - val_accuracy: 0.8603\n",
      "\n",
      "Epoch 00002: val_loss improved from 0.33963 to 0.32868, saving model to /workspace/userdisk/sentiment_classification/best_model_cnn.keras\n",
      "Epoch 3/20\n",
      "986/986 - 4s - loss: 0.2877 - accuracy: 0.8889 - val_loss: 0.3317 - val_accuracy: 0.8579\n",
      "\n",
      "Epoch 00003: val_loss did not improve from 0.32868\n",
      "Epoch 4/20\n",
      "986/986 - 4s - loss: 0.2471 - accuracy: 0.9086 - val_loss: 0.3572 - val_accuracy: 0.8563\n",
      "\n",
      "Epoch 00004: val_loss did not improve from 0.32868\n",
      "Epoch 5/20\n",
      "986/986 - 4s - loss: 0.2085 - accuracy: 0.9270 - val_loss: 0.3924 - val_accuracy: 0.8502\n",
      "\n",
      "Epoch 00005: val_loss did not improve from 0.32868\n",
      "Epoch 6/20\n",
      "986/986 - 4s - loss: 0.1765 - accuracy: 0.9407 - val_loss: 0.4418 - val_accuracy: 0.8443\n",
      "\n",
      "Epoch 00006: val_loss did not improve from 0.32868\n",
      "Epoch 7/20\n",
      "986/986 - 4s - loss: 0.1492 - accuracy: 0.9512 - val_loss: 0.4910 - val_accuracy: 0.8394\n",
      "\n",
      "Epoch 00007: val_loss did not improve from 0.32868\n",
      "Epoch 8/20\n",
      "986/986 - 4s - loss: 0.1297 - accuracy: 0.9589 - val_loss: 0.5839 - val_accuracy: 0.8383\n",
      "\n",
      "Epoch 00008: val_loss did not improve from 0.32868\n",
      "Epoch 9/20\n",
      "986/986 - 4s - loss: 0.1137 - accuracy: 0.9639 - val_loss: 0.6188 - val_accuracy: 0.8339\n",
      "\n",
      "Epoch 00009: val_loss did not improve from 0.32868\n",
      "Epoch 10/20\n",
      "986/986 - 4s - loss: 0.1058 - accuracy: 0.9670 - val_loss: 0.6791 - val_accuracy: 0.8356\n",
      "\n",
      "Epoch 00010: val_loss did not improve from 0.32868\n",
      "Epoch 11/20\n",
      "986/986 - 4s - loss: 0.0963 - accuracy: 0.9699 - val_loss: 0.7201 - val_accuracy: 0.8321\n",
      "\n",
      "Epoch 00011: val_loss did not improve from 0.32868\n",
      "Epoch 12/20\n",
      "986/986 - 4s - loss: 0.0919 - accuracy: 0.9711 - val_loss: 0.8147 - val_accuracy: 0.8324\n",
      "\n",
      "Epoch 00012: val_loss did not improve from 0.32868\n",
      "Epoch 13/20\n",
      "986/986 - 4s - loss: 0.0844 - accuracy: 0.9741 - val_loss: 0.8914 - val_accuracy: 0.8309\n",
      "\n",
      "Epoch 00013: val_loss did not improve from 0.32868\n",
      "Epoch 14/20\n",
      "986/986 - 4s - loss: 0.0796 - accuracy: 0.9752 - val_loss: 0.8359 - val_accuracy: 0.8300\n",
      "\n",
      "Epoch 00014: val_loss did not improve from 0.32868\n",
      "Epoch 15/20\n",
      "986/986 - 4s - loss: 0.0739 - accuracy: 0.9773 - val_loss: 0.9911 - val_accuracy: 0.8284\n",
      "\n",
      "Epoch 00015: val_loss did not improve from 0.32868\n",
      "Epoch 16/20\n",
      "986/986 - 4s - loss: 0.0726 - accuracy: 0.9771 - val_loss: 1.0019 - val_accuracy: 0.8276\n",
      "\n",
      "Epoch 00016: val_loss did not improve from 0.32868\n",
      "Epoch 17/20\n",
      "986/986 - 4s - loss: 0.0677 - accuracy: 0.9784 - val_loss: 1.0151 - val_accuracy: 0.8283\n",
      "\n",
      "Epoch 00017: val_loss did not improve from 0.32868\n",
      "Epoch 18/20\n",
      "986/986 - 4s - loss: 0.0663 - accuracy: 0.9792 - val_loss: 1.0439 - val_accuracy: 0.8274\n",
      "\n",
      "Epoch 00018: val_loss did not improve from 0.32868\n",
      "Epoch 19/20\n",
      "986/986 - 4s - loss: 0.0632 - accuracy: 0.9804 - val_loss: 1.1038 - val_accuracy: 0.8284\n",
      "\n",
      "Epoch 00019: val_loss did not improve from 0.32868\n",
      "Epoch 20/20\n",
      "986/986 - 4s - loss: 0.0606 - accuracy: 0.9808 - val_loss: 1.1881 - val_accuracy: 0.8255\n",
      "\n",
      "Epoch 00020: val_loss did not improve from 0.32868\n"
     ]
    }
   ],
   "source": [
    "history_cnn = model_cnn.fit(\n",
    "    partial_x_train, partial_y_train,\n",
    "    validation_data=(x_val, y_val),\n",
    "    epochs=20,\n",
    "    batch_size=128,\n",
    "    verbose = 2,\n",
    "    callbacks=[checkpoint_cnn]\n",
    ")"
   ]
  },
  {
   "cell_type": "code",
   "execution_count": 177,
   "id": "49995cbf",
   "metadata": {},
   "outputs": [
    {
     "name": "stdout",
     "output_type": "stream",
     "text": [
      "Epoch 1/10\n",
      "986/986 - 9s - loss: 0.4305 - accuracy: 0.8077 - val_loss: 0.3481 - val_accuracy: 0.8486\n",
      "\n",
      "Epoch 00001: val_loss improved from inf to 0.34811, saving model to /workspace/userdisk/sentiment_classification/best_model_bilstm.keras\n",
      "Epoch 2/10\n",
      "986/986 - 6s - loss: 0.3493 - accuracy: 0.8572 - val_loss: 0.3410 - val_accuracy: 0.8485\n",
      "\n",
      "Epoch 00002: val_loss improved from 0.34811 to 0.34098, saving model to /workspace/userdisk/sentiment_classification/best_model_bilstm.keras\n",
      "Epoch 3/10\n",
      "986/986 - 6s - loss: 0.3234 - accuracy: 0.8676 - val_loss: 0.3377 - val_accuracy: 0.8548\n",
      "\n",
      "Epoch 00003: val_loss improved from 0.34098 to 0.33766, saving model to /workspace/userdisk/sentiment_classification/best_model_bilstm.keras\n",
      "Epoch 4/10\n",
      "986/986 - 6s - loss: 0.3022 - accuracy: 0.8752 - val_loss: 0.3442 - val_accuracy: 0.8546\n",
      "\n",
      "Epoch 00004: val_loss did not improve from 0.33766\n",
      "Epoch 5/10\n",
      "986/986 - 6s - loss: 0.2812 - accuracy: 0.8837 - val_loss: 0.3516 - val_accuracy: 0.8517\n",
      "\n",
      "Epoch 00005: val_loss did not improve from 0.33766\n",
      "Epoch 6/10\n",
      "986/986 - 6s - loss: 0.2622 - accuracy: 0.8912 - val_loss: 0.3629 - val_accuracy: 0.8532\n",
      "\n",
      "Epoch 00006: val_loss did not improve from 0.33766\n",
      "Epoch 7/10\n",
      "986/986 - 6s - loss: 0.2457 - accuracy: 0.8978 - val_loss: 0.3775 - val_accuracy: 0.8528\n",
      "\n",
      "Epoch 00007: val_loss did not improve from 0.33766\n",
      "Epoch 8/10\n",
      "986/986 - 6s - loss: 0.2317 - accuracy: 0.9019 - val_loss: 0.4026 - val_accuracy: 0.8484\n",
      "\n",
      "Epoch 00008: val_loss did not improve from 0.33766\n",
      "Epoch 9/10\n",
      "986/986 - 6s - loss: 0.2187 - accuracy: 0.9067 - val_loss: 0.4189 - val_accuracy: 0.8505\n",
      "\n",
      "Epoch 00009: val_loss did not improve from 0.33766\n",
      "Epoch 10/10\n",
      "986/986 - 6s - loss: 0.2058 - accuracy: 0.9111 - val_loss: 0.4899 - val_accuracy: 0.8503\n",
      "\n",
      "Epoch 00010: val_loss did not improve from 0.33766\n"
     ]
    }
   ],
   "source": [
    "history_bilstm = model_bilstm.fit(\n",
    "    partial_x_train, partial_y_train,\n",
    "    validation_data=(x_val, y_val),\n",
    "    epochs=10,\n",
    "    batch_size=128,\n",
    "    callbacks=[checkpoint_bilstm],\n",
    "    verbose=2\n",
    ")"
   ]
  },
  {
   "cell_type": "markdown",
   "id": "20b68d10",
   "metadata": {},
   "source": [
    "# 학습 결과 시각화"
   ]
  },
  {
   "cell_type": "code",
   "execution_count": null,
   "id": "7aa916c2",
   "metadata": {},
   "outputs": [],
   "source": [
    "import matplotlib.pyplot as plt\n",
    "\n",
    "def plot_history(history, title='Model'):\n",
    "    acc = history.history['accuracy']\n",
    "    val_acc = history.history['val_accuracy']\n",
    "    loss = history.history['loss']\n",
    "    val_loss = history.history['val_loss']\n",
    "    epochs = range(1, len(acc) + 1)\n",
    "\n",
    "    plt.figure(figsize=(14, 5))\n",
    "\n",
    "    # Accuracy 그래프\n",
    "    plt.subplot(1, 2, 1)\n",
    "    plt.plot(epochs, acc, 'b', label='Training acc')\n",
    "    plt.plot(epochs, val_acc, 'r', label='Validation acc')\n",
    "    plt.title(f'{title} Accuracy')\n",
    "    plt.xlabel('Epochs')\n",
    "    plt.ylabel('Accuracy')\n",
    "    plt.legend()\n",
    "\n",
    "    # Loss 그래프\n",
    "    plt.subplot(1, 2, 2)\n",
    "    plt.plot(epochs, loss, 'b', label='Training loss')\n",
    "    plt.plot(epochs, val_loss, 'r', label='Validation loss')\n",
    "    plt.title(f'{title} Loss')\n",
    "    plt.xlabel('Epochs')\n",
    "    plt.ylabel('Loss')\n",
    "    plt.legend()\n",
    "\n",
    "    plt.show()"
   ]
  },
  {
   "cell_type": "code",
   "execution_count": 178,
   "id": "a8ba7d86",
   "metadata": {},
   "outputs": [
    {
     "data": {
      "image/png": "[encoded data removed]",
      "text/plain": [
       "<Figure size 1008x360 with 2 Axes>"
      ]
     },
     "metadata": {
      "needs_background": "light"
     },
     "output_type": "display_data"
    }
   ],
   "source": [
    "plot_history(history_lstm, title='LSTM')"
   ]
  },
  {
   "cell_type": "code",
   "execution_count": 179,
   "id": "8ec5cd19",
   "metadata": {},
   "outputs": [
    {
     "data": {
      "image/png": "[encoded data removed]",
      "text/plain": [
       "<Figure size 1008x360 with 2 Axes>"
      ]
     },
     "metadata": {
      "needs_background": "light"
     },
     "output_type": "display_data"
    }
   ],
   "source": [
    "plot_history(history_cnn, title='CNN')"
   ]
  },
  {
   "cell_type": "code",
   "execution_count": 180,
   "id": "588010fc",
   "metadata": {},
   "outputs": [
    {
     "data": {
      "image/png": "[encoded data removed]",
      "text/plain": [
       "<Figure size 1008x360 with 2 Axes>"
      ]
     },
     "metadata": {
      "needs_background": "light"
     },
     "output_type": "display_data"
    }
   ],
   "source": [
    "plot_history(history_bilstm, title='Bidirectional LSTM')"
   ]
  },
  {
   "cell_type": "markdown",
   "id": "236818cd",
   "metadata": {},
   "source": [
    "# Best Model Test"
   ]
  },
  {
   "cell_type": "code",
   "execution_count": 181,
   "id": "42252ad2",
   "metadata": {},
   "outputs": [],
   "source": [
    "from tensorflow.keras.models import load_model\n",
    "\n",
    "best_lstm = load_model('/workspace/userdisk/sentiment_classification/best_model_lstm.keras')\n",
    "best_cnn = load_model('/workspace/userdisk/sentiment_classification/best_model_cnn.keras')\n",
    "best_bilstm =load_model('/workspace/userdisk/sentiment_classification/best_model_bilstm.keras')"
   ]
  },
  {
   "cell_type": "code",
   "execution_count": 182,
   "id": "406bfca6",
   "metadata": {},
   "outputs": [
    {
     "name": "stdout",
     "output_type": "stream",
     "text": [
      "1537/1537 - 3s - loss: 0.3695 - accuracy: 0.8487\n",
      "[0.36949464678764343, 0.8486889004707336]\n"
     ]
    }
   ],
   "source": [
    "results_lstm = best_lstm.evaluate(X_test,  y_test, verbose=2)\n",
    "print(results_lstm)"
   ]
  },
  {
   "cell_type": "code",
   "execution_count": 183,
   "id": "f20c12ba",
   "metadata": {},
   "outputs": [
    {
     "name": "stdout",
     "output_type": "stream",
     "text": [
      "1537/1537 - 2s - loss: 0.3379 - accuracy: 0.8550\n",
      "[0.3378945589065552, 0.8549748659133911]\n"
     ]
    }
   ],
   "source": [
    "results_cnn = best_cnn.evaluate(X_test,  y_test, verbose=2)\n",
    "print(results_cnn)"
   ]
  },
  {
   "cell_type": "code",
   "execution_count": 186,
   "id": "c10e6e5e",
   "metadata": {},
   "outputs": [
    {
     "name": "stdout",
     "output_type": "stream",
     "text": [
      "1537/1537 - 4s - loss: 0.3433 - accuracy: 0.8494\n",
      "[0.34334877133369446, 0.8494415879249573]\n"
     ]
    }
   ],
   "source": [
    "results_bilstm = best_bilstm.evaluate(X_test,  y_test, verbose=2)\n",
    "print(results_bilstm)"
   ]
  },
  {
   "cell_type": "markdown",
   "id": "4df9274b",
   "metadata": {},
   "source": [
    "- 세 모델 모두 비슷한 정도의 accuracy 성능을 보임\n",
    "- cnn 에서는 85 이상 accuracy 나옴\n",
    "- cnn>bilstm>lstm "
   ]
  },
  {
   "cell_type": "markdown",
   "id": "a98532bd",
   "metadata": {},
   "source": [
    "# Word2Vec로 학습된 임베딩 레이어 확인"
   ]
  },
  {
   "cell_type": "code",
   "execution_count": 223,
   "id": "2daf271f",
   "metadata": {},
   "outputs": [],
   "source": [
    "import os\n",
    "from gensim.models.keyedvectors import Word2VecKeyedVectors\n",
    "from tensorflow.keras import regularizers\n",
    "\n",
    "def save_embedding_weights(model, word_to_index, index_to_word, word_vector_dim, vocab_size, save_path):\n",
    "    \"\"\"\n",
    "    학습된 임베딩 가중치를 Word2Vec 텍스트 포맷으로 저장함\n",
    "    \"\"\"\n",
    "    os.makedirs(os.path.dirname(save_path), exist_ok=True)\n",
    "    \n",
    "    with open(save_path, 'w') as f:\n",
    "        f.write('{} {}\\n'.format(vocab_size-4, word_vector_dim)) \n",
    "        \n",
    "        # 임베딩 레이어 추출 (첫 번째 레이어 기준)\n",
    "        vectors = model.get_weights()[0]\n",
    "        \n",
    "        for i in range(4,vocab_size):\n",
    "            f.write('{} {}\\n'.format(index_to_word[i], ' '.join(map(str, list(vectors[i, :])))))\n",
    "        f.close()\n",
    "\n",
    "    print(f\"✅ 임베딩 벡터 저장 완료: {save_path}\")\n",
    "\n",
    "def save_all_model_embeddings(models_dict, word_to_index, index_to_word, word_vector_dim, vocab_size, base_path):\n",
    "    \"\"\"\n",
    "    여러 모델의 임베딩을 반복적으로 저장\n",
    "    \"\"\"\n",
    "    os.makedirs(base_path, exist_ok=True)\n",
    "\n",
    "    for name, model in models_dict.items():\n",
    "        save_path = os.path.join(base_path, f\"w2v_{name}.txt\")\n",
    "        save_embedding_weights(model, word_to_index, index_to_word, word_vector_dim, vocab_size, save_path)\n",
    "        \n",
    "        \n",
    "def print_similar_words(word_vectors, query_word, topn=10):\n",
    "    \"\"\"\n",
    "    주어진 단어에 대해 Word2Vec 모델에서 가장 유사한 단어를 출력한다\n",
    "    \"\"\"\n",
    "    if query_word not in word_vectors:\n",
    "        print(f\"❌ '{query_word}' 단어는 임베딩 사전에 없습니다.\")\n",
    "        return\n",
    "\n",
    "    print(f\"\\n[ {query_word} ] 와 유사한 단어 Top {topn}:\\n\")\n",
    "    for word, score in word_vectors.similar_by_word(query_word, topn=topn):\n",
    "        print(f\"  {word:10s} | 유사도: {score:.4f}\")\n",
    "\n",
    "    "
   ]
  },
  {
   "cell_type": "code",
   "execution_count": 361,
   "id": "b8c1eb80",
   "metadata": {},
   "outputs": [
    {
     "name": "stdout",
     "output_type": "stream",
     "text": [
      "✅ 임베딩 벡터 저장 완료: /workspace/userdisk/sentiment_classification/w2v_lstm.txt\n",
      "✅ 임베딩 벡터 저장 완료: /workspace/userdisk/sentiment_classification/w2v_bilstm.txt\n",
      "✅ 임베딩 벡터 저장 완료: /workspace/userdisk/sentiment_classification/w2v_cnn_emb.txt\n"
     ]
    }
   ],
   "source": [
    "save_all_model_embeddings(\n",
    "    models_dict={\n",
    "        \"lstm\": best_lstm,\n",
    "        \"bilstm\": best_bilstm,\n",
    "        \"cnn_emb\": best_cnn\n",
    "    },\n",
    "    word_to_index=word_to_index,\n",
    "    index_to_word=index_to_word,\n",
    "    word_vector_dim=16,\n",
    "    vocab_size=vocab_size,\n",
    "    base_path=\"/workspace/userdisk/sentiment_classification\"\n",
    ")"
   ]
  },
  {
   "cell_type": "code",
   "execution_count": 362,
   "id": "07eb755d",
   "metadata": {},
   "outputs": [],
   "source": [
    "# 저장된 모델별 임베딩 불러오기\n",
    "word_vectors_lstm_ =  Word2VecKeyedVectors.load_word2vec_format(\n",
    "    \"/workspace/userdisk/sentiment_classification/w2v_lstm.txt\", binary=False\n",
    ")\n",
    "\n",
    "word_vectors_bilstm_ = Word2VecKeyedVectors.load_word2vec_format(\n",
    "    \"/workspace/userdisk/sentiment_classification/w2v_bilstm.txt\", binary=False\n",
    ")\n",
    "\n",
    "word_vectors_cnn_ = Word2VecKeyedVectors.load_word2vec_format(\n",
    "    \"/workspace/userdisk/sentiment_classification/w2v_cnn.txt\", binary=False\n",
    ")"
   ]
  },
  {
   "cell_type": "code",
   "execution_count": 363,
   "id": "16f28f24",
   "metadata": {},
   "outputs": [
    {
     "name": "stdout",
     "output_type": "stream",
     "text": [
      "LSTM\n",
      "\n",
      "[ 스토리 ] 와 유사한 단어 Top 10:\n",
      "\n",
      "  유혼         | 유사도: 0.7656\n",
      "  컨데         | 유사도: 0.7455\n",
      "  성질         | 유사도: 0.7385\n",
      "  라구         | 유사도: 0.7372\n",
      "  잠자         | 유사도: 0.7347\n",
      "  관람객        | 유사도: 0.7283\n",
      "  허무맹랑       | 유사도: 0.7193\n",
      "  늘          | 유사도: 0.7171\n",
      "  이이         | 유사도: 0.7167\n",
      "  死          | 유사도: 0.7159\n",
      "\n",
      "BiLSTM\n",
      "\n",
      "[ 스토리 ] 와 유사한 단어 Top 10:\n",
      "\n",
      "  주저         | 유사도: 0.9303\n",
      "  뭔지         | 유사도: 0.9147\n",
      "  김신         | 유사도: 0.9097\n",
      "  사태         | 유사도: 0.9054\n",
      "  해소         | 유사도: 0.9047\n",
      "  이득         | 유사도: 0.9014\n",
      "  아앙         | 유사도: 0.8999\n",
      "  삼총사        | 유사도: 0.8991\n",
      "  미리         | 유사도: 0.8975\n",
      "  ~~~~~~~    | 유사도: 0.8967\n",
      "\n",
      "CNN\n",
      "\n",
      "[ 스토리 ] 와 유사한 단어 Top 10:\n",
      "\n",
      "  어지간히       | 유사도: 0.8368\n",
      "  오타쿠        | 유사도: 0.8312\n",
      "  영환         | 유사도: 0.8274\n",
      "  영          | 유사도: 0.8189\n",
      "  버렸         | 유사도: 0.8143\n",
      "  피우         | 유사도: 0.8061\n",
      "  그린         | 유사도: 0.8043\n",
      "  정직         | 유사도: 0.8018\n",
      "  지어다        | 유사도: 0.8016\n",
      "  내고         | 유사도: 0.7996\n"
     ]
    }
   ],
   "source": [
    "print(\"LSTM\")\n",
    "print_similar_words(word_vectors_lstm_, \"스토리\")\n",
    "\n",
    "print(\"\\nBiLSTM\")\n",
    "print_similar_words(word_vectors_bilstm_, \"스토리\")\n",
    "\n",
    "print(\"\\nCNN\")\n",
    "print_similar_words(word_vectors_cnn_, \"스토리\")\n"
   ]
  },
  {
   "cell_type": "markdown",
   "id": "4c49d32b",
   "metadata": {},
   "source": [
    "- 훈련 데이터에 의해 크게 영향받은 것으로 보임.\n",
    "- 따라서 일반화되지 않은 결과를 보이고 있다."
   ]
  },
  {
   "cell_type": "markdown",
   "id": "b5bc8ce9",
   "metadata": {},
   "source": [
    "# Word2Vec 활용하여 성능 향상하기"
   ]
  },
  {
   "cell_type": "markdown",
   "id": "137563dd",
   "metadata": {},
   "source": [
    "Word 2 Vec Embadding Layer"
   ]
  },
  {
   "cell_type": "code",
   "execution_count": 308,
   "id": "a63a94f7",
   "metadata": {
    "scrolled": true
   },
   "outputs": [],
   "source": [
    "word_vector_dim = 100\n",
    "\n",
    "embedding_matrix = np.random.rand(vocab_size, word_vector_dim)\n",
    "\n",
    "# embedding_matrix에 Word2Vec 워드 벡터를 단어 하나씩마다 차례차례 카피한다.\n",
    "for i in range(4,vocab_size):\n",
    "    if index_to_word[i] in word_vectors.wv:\n",
    "        embedding_matrix[i] = word_vectors.wv[index_to_word[i]]\n",
    "        \n",
    "from tensorflow.keras.initializers import Constant\n",
    "embedding_layer = Embedding(\n",
    "    input_dim=vocab_size,\n",
    "    output_dim=word_vector_dim,\n",
    "    embeddings_initializer=Constant(embedding_matrix),  # Word2Vec으로 초기화\n",
    "    input_shape=(None,),\n",
    "    trainable=True\n",
    ")"
   ]
  },
  {
   "cell_type": "markdown",
   "id": "8e28da3a",
   "metadata": {},
   "source": [
    "New CheckPoint"
   ]
  },
  {
   "cell_type": "code",
   "execution_count": 309,
   "id": "26ece3b1",
   "metadata": {},
   "outputs": [],
   "source": [
    "checkpoint_lstm_w2v = ModelCheckpoint(\n",
    "    filepath='/workspace/userdisk/sentiment_classification/best_model_lstm_w2v.keras',\n",
    "    monitor='val_loss',\n",
    "    save_best_only=True,\n",
    "    verbose=1\n",
    ")\n",
    "\n",
    "checkpoint_cnn_w2v = ModelCheckpoint(\n",
    "    filepath='/workspace/userdisk/sentiment_classification/best_model_cnn_w2v.keras',\n",
    "    monitor='val_loss',\n",
    "    save_best_only=True,\n",
    "    verbose=1\n",
    ")\n",
    "\n",
    "checkpoint_bilstm_w2v = ModelCheckpoint(\n",
    "    filepath='/workspace/userdisk/sentiment_classification/best_model_bilstm_w2v.keras',    \n",
    "    monitor='val_loss',             \n",
    "    save_best_only=True,                     \n",
    "    verbose=1\n",
    ")\n"
   ]
  },
  {
   "cell_type": "markdown",
   "id": "d046665b",
   "metadata": {},
   "source": [
    "Build Model\n",
    "\n",
    "- 기존 모델과 동일하게 사용했더니 오히려 성능이 나빠졌다.\n",
    "- 모델에 들어가는 임베딩 크기가 커졌기 때문에 모델도 키워줘야 성능이 좋아지는 것 같다.\n",
    "- 여러번 실험해도 epoch 10 이상은 완벽하게 오버피팅이 나서 에폭 줄임\n"
   ]
  },
  {
   "cell_type": "code",
   "execution_count": 320,
   "id": "ae3dab49",
   "metadata": {},
   "outputs": [
    {
     "name": "stdout",
     "output_type": "stream",
     "text": [
      "Model: \"sequential_72\"\n",
      "_________________________________________________________________\n",
      "Layer (type)                 Output Shape              Param #   \n",
      "=================================================================\n",
      "embedding_33 (Embedding)     (None, None, 100)         1000000   \n",
      "_________________________________________________________________\n",
      "lstm_49 (LSTM)               (None, 128)               117248    \n",
      "_________________________________________________________________\n",
      "dense_146 (Dense)            (None, 1)                 129       \n",
      "=================================================================\n",
      "Total params: 1,117,377\n",
      "Trainable params: 1,117,377\n",
      "Non-trainable params: 0\n",
      "_________________________________________________________________\n"
     ]
    }
   ],
   "source": [
    "model_lstm_w2v = Sequential([\n",
    "    embedding_layer,\n",
    "    LSTM(128),\n",
    "    Dense(1, activation='sigmoid')\n",
    "])\n",
    "model_lstm_w2v.compile(optimizer='adam', loss='binary_crossentropy', metrics=['accuracy'])\n",
    "model_lstm_w2v.summary()"
   ]
  },
  {
   "cell_type": "code",
   "execution_count": 321,
   "id": "1fe8f311",
   "metadata": {},
   "outputs": [
    {
     "name": "stdout",
     "output_type": "stream",
     "text": [
      "Model: \"sequential_73\"\n",
      "_________________________________________________________________\n",
      "Layer (type)                 Output Shape              Param #   \n",
      "=================================================================\n",
      "embedding_33 (Embedding)     (None, None, 100)         1000000   \n",
      "_________________________________________________________________\n",
      "conv1d_49 (Conv1D)           (None, None, 128)         89728     \n",
      "_________________________________________________________________\n",
      "max_pooling1d_23 (MaxPooling (None, None, 128)         0         \n",
      "_________________________________________________________________\n",
      "conv1d_50 (Conv1D)           (None, None, 64)          57408     \n",
      "_________________________________________________________________\n",
      "global_max_pooling1d_26 (Glo (None, 64)                0         \n",
      "_________________________________________________________________\n",
      "dense_147 (Dense)            (None, 1)                 65        \n",
      "=================================================================\n",
      "Total params: 1,147,201\n",
      "Trainable params: 1,147,201\n",
      "Non-trainable params: 0\n",
      "_________________________________________________________________\n"
     ]
    }
   ],
   "source": [
    "model_cnn_w2v = Sequential([\n",
    "    embedding_layer,\n",
    "    Conv1D(128, 7, activation='relu'),\n",
    "    MaxPooling1D(5),\n",
    "    Conv1D(64, 7, activation='relu'),\n",
    "    GlobalMaxPooling1D(),\n",
    "    Dense(1, activation='sigmoid')\n",
    "])\n",
    "\n",
    "model_cnn_w2v.compile(optimizer='adam', loss='binary_crossentropy', metrics=['accuracy'])\n",
    "model_cnn_w2v.summary()"
   ]
  },
  {
   "cell_type": "code",
   "execution_count": 341,
   "id": "fddcb02b",
   "metadata": {},
   "outputs": [
    {
     "name": "stdout",
     "output_type": "stream",
     "text": [
      "Model: \"sequential_78\"\n",
      "_________________________________________________________________\n",
      "Layer (type)                 Output Shape              Param #   \n",
      "=================================================================\n",
      "embedding_33 (Embedding)     (None, None, 100)         1000000   \n",
      "_________________________________________________________________\n",
      "bidirectional_22 (Bidirectio (None, 512)               731136    \n",
      "_________________________________________________________________\n",
      "dense_156 (Dense)            (None, 1)                 513       \n",
      "=================================================================\n",
      "Total params: 1,731,649\n",
      "Trainable params: 1,731,649\n",
      "Non-trainable params: 0\n",
      "_________________________________________________________________\n"
     ]
    }
   ],
   "source": [
    "model_bilstm_w2v = Sequential([\n",
    "    embedding_layer,\n",
    "    Bidirectional(LSTM(256)), \n",
    "    Dense(1, activation='sigmoid')\n",
    "])\n",
    "\n",
    "model_bilstm_w2v.compile(optimizer='adam', loss='binary_crossentropy', metrics=['accuracy'])\n",
    "model_bilstm_w2v.summary()"
   ]
  },
  {
   "cell_type": "markdown",
   "id": "41d377d4",
   "metadata": {},
   "source": [
    "Train"
   ]
  },
  {
   "cell_type": "code",
   "execution_count": 312,
   "id": "3fed5fdc",
   "metadata": {},
   "outputs": [
    {
     "name": "stdout",
     "output_type": "stream",
     "text": [
      "Epoch 1/10\n",
      "986/986 - 7s - loss: 0.4184 - accuracy: 0.8058 - val_loss: 0.3453 - val_accuracy: 0.8460\n",
      "\n",
      "Epoch 00001: val_loss improved from inf to 0.34526, saving model to /workspace/userdisk/sentiment_classification/best_model_lstm_w2v.keras\n",
      "Epoch 2/10\n",
      "986/986 - 5s - loss: 0.3103 - accuracy: 0.8669 - val_loss: 0.3172 - val_accuracy: 0.8635\n",
      "\n",
      "Epoch 00002: val_loss improved from 0.34526 to 0.31716, saving model to /workspace/userdisk/sentiment_classification/best_model_lstm_w2v.keras\n",
      "Epoch 3/10\n",
      "986/986 - 5s - loss: 0.2671 - accuracy: 0.8879 - val_loss: 0.3166 - val_accuracy: 0.8638\n",
      "\n",
      "Epoch 00003: val_loss improved from 0.31716 to 0.31656, saving model to /workspace/userdisk/sentiment_classification/best_model_lstm_w2v.keras\n",
      "Epoch 4/10\n",
      "986/986 - 5s - loss: 0.2332 - accuracy: 0.9038 - val_loss: 0.3183 - val_accuracy: 0.8655\n",
      "\n",
      "Epoch 00004: val_loss did not improve from 0.31656\n",
      "Epoch 5/10\n",
      "986/986 - 5s - loss: 0.2032 - accuracy: 0.9186 - val_loss: 0.3311 - val_accuracy: 0.8659\n",
      "\n",
      "Epoch 00005: val_loss did not improve from 0.31656\n",
      "Epoch 6/10\n",
      "986/986 - 5s - loss: 0.1726 - accuracy: 0.9321 - val_loss: 0.3569 - val_accuracy: 0.8644\n",
      "\n",
      "Epoch 00006: val_loss did not improve from 0.31656\n",
      "Epoch 7/10\n",
      "986/986 - 5s - loss: 0.1436 - accuracy: 0.9447 - val_loss: 0.3963 - val_accuracy: 0.8616\n",
      "\n",
      "Epoch 00007: val_loss did not improve from 0.31656\n",
      "Epoch 8/10\n",
      "986/986 - 5s - loss: 0.1179 - accuracy: 0.9553 - val_loss: 0.4308 - val_accuracy: 0.8622\n",
      "\n",
      "Epoch 00008: val_loss did not improve from 0.31656\n",
      "Epoch 9/10\n",
      "986/986 - 5s - loss: 0.0972 - accuracy: 0.9642 - val_loss: 0.4928 - val_accuracy: 0.8587\n",
      "\n",
      "Epoch 00009: val_loss did not improve from 0.31656\n",
      "Epoch 10/10\n",
      "986/986 - 5s - loss: 0.0768 - accuracy: 0.9721 - val_loss: 0.5304 - val_accuracy: 0.8559\n",
      "\n",
      "Epoch 00010: val_loss did not improve from 0.31656\n"
     ]
    }
   ],
   "source": [
    "history_lstm_w2v = model_lstm_w2v.fit(\n",
    "    partial_x_train, partial_y_train,\n",
    "    validation_data=(x_val, y_val),\n",
    "    epochs=10,\n",
    "    batch_size=128,\n",
    "    verbose = 2,\n",
    "    callbacks=[checkpoint_lstm_w2v]\n",
    ")"
   ]
  },
  {
   "cell_type": "code",
   "execution_count": 322,
   "id": "0d651912",
   "metadata": {},
   "outputs": [
    {
     "name": "stdout",
     "output_type": "stream",
     "text": [
      "Epoch 1/10\n",
      "986/986 - 5s - loss: 0.3615 - accuracy: 0.8372 - val_loss: 0.3413 - val_accuracy: 0.8511\n",
      "\n",
      "Epoch 00001: val_loss improved from 0.69313 to 0.34127, saving model to /workspace/userdisk/sentiment_classification/best_model_cnn_w2v.keras\n",
      "Epoch 2/10\n",
      "986/986 - 4s - loss: 0.2619 - accuracy: 0.8909 - val_loss: 0.3351 - val_accuracy: 0.8566\n",
      "\n",
      "Epoch 00002: val_loss improved from 0.34127 to 0.33508, saving model to /workspace/userdisk/sentiment_classification/best_model_cnn_w2v.keras\n",
      "Epoch 3/10\n",
      "986/986 - 4s - loss: 0.2250 - accuracy: 0.9083 - val_loss: 0.3619 - val_accuracy: 0.8554\n",
      "\n",
      "Epoch 00003: val_loss did not improve from 0.33508\n",
      "Epoch 4/10\n",
      "986/986 - 4s - loss: 0.1917 - accuracy: 0.9232 - val_loss: 0.3908 - val_accuracy: 0.8583\n",
      "\n",
      "Epoch 00004: val_loss did not improve from 0.33508\n",
      "Epoch 5/10\n",
      "986/986 - 4s - loss: 0.1584 - accuracy: 0.9373 - val_loss: 0.4177 - val_accuracy: 0.8547\n",
      "\n",
      "Epoch 00005: val_loss did not improve from 0.33508\n",
      "Epoch 6/10\n",
      "986/986 - 4s - loss: 0.1293 - accuracy: 0.9501 - val_loss: 0.4447 - val_accuracy: 0.8468\n",
      "\n",
      "Epoch 00006: val_loss did not improve from 0.33508\n",
      "Epoch 7/10\n",
      "986/986 - 4s - loss: 0.1082 - accuracy: 0.9581 - val_loss: 0.5312 - val_accuracy: 0.8495\n",
      "\n",
      "Epoch 00007: val_loss did not improve from 0.33508\n",
      "Epoch 8/10\n",
      "986/986 - 4s - loss: 0.0886 - accuracy: 0.9665 - val_loss: 0.6028 - val_accuracy: 0.8480\n",
      "\n",
      "Epoch 00008: val_loss did not improve from 0.33508\n",
      "Epoch 9/10\n",
      "986/986 - 4s - loss: 0.0721 - accuracy: 0.9722 - val_loss: 0.7199 - val_accuracy: 0.8471\n",
      "\n",
      "Epoch 00009: val_loss did not improve from 0.33508\n",
      "Epoch 10/10\n",
      "986/986 - 4s - loss: 0.0636 - accuracy: 0.9756 - val_loss: 0.8006 - val_accuracy: 0.8474\n",
      "\n",
      "Epoch 00010: val_loss did not improve from 0.33508\n"
     ]
    }
   ],
   "source": [
    "history_cnn_w2v = model_cnn_w2v.fit(\n",
    "    partial_x_train, partial_y_train,\n",
    "    validation_data=(x_val, y_val),\n",
    "    epochs=10,\n",
    "    batch_size=128,\n",
    "    verbose = 2,\n",
    "    callbacks=[checkpoint_cnn_w2v]\n",
    ")"
   ]
  },
  {
   "cell_type": "code",
   "execution_count": 342,
   "id": "a701d37f",
   "metadata": {},
   "outputs": [
    {
     "name": "stdout",
     "output_type": "stream",
     "text": [
      "Epoch 1/10\n",
      "1972/1972 - 21s - loss: 0.2071 - accuracy: 0.9141 - val_loss: 0.4250 - val_accuracy: 0.8567\n",
      "\n",
      "Epoch 00001: val_loss did not improve from 0.32062\n",
      "Epoch 2/10\n",
      "1972/1972 - 19s - loss: 0.1312 - accuracy: 0.9481 - val_loss: 0.4627 - val_accuracy: 0.8513\n",
      "\n",
      "Epoch 00002: val_loss did not improve from 0.32062\n",
      "Epoch 3/10\n",
      "1972/1972 - 19s - loss: 0.0985 - accuracy: 0.9622 - val_loss: 0.5623 - val_accuracy: 0.8547\n",
      "\n",
      "Epoch 00003: val_loss did not improve from 0.32062\n",
      "Epoch 4/10\n",
      "1972/1972 - 19s - loss: 0.0740 - accuracy: 0.9723 - val_loss: 0.6388 - val_accuracy: 0.8551\n",
      "\n",
      "Epoch 00004: val_loss did not improve from 0.32062\n",
      "Epoch 5/10\n",
      "1972/1972 - 19s - loss: 0.0561 - accuracy: 0.9791 - val_loss: 0.7404 - val_accuracy: 0.8538\n",
      "\n",
      "Epoch 00005: val_loss did not improve from 0.32062\n",
      "Epoch 6/10\n",
      "1972/1972 - 19s - loss: 0.0437 - accuracy: 0.9835 - val_loss: 0.7946 - val_accuracy: 0.8504\n",
      "\n",
      "Epoch 00006: val_loss did not improve from 0.32062\n",
      "Epoch 7/10\n",
      "1972/1972 - 19s - loss: 0.0339 - accuracy: 0.9874 - val_loss: 0.8853 - val_accuracy: 0.8489\n",
      "\n",
      "Epoch 00007: val_loss did not improve from 0.32062\n",
      "Epoch 8/10\n",
      "1972/1972 - 19s - loss: 0.0313 - accuracy: 0.9880 - val_loss: 0.9390 - val_accuracy: 0.8525\n",
      "\n",
      "Epoch 00008: val_loss did not improve from 0.32062\n",
      "Epoch 9/10\n",
      "1972/1972 - 19s - loss: 0.0259 - accuracy: 0.9902 - val_loss: 1.0795 - val_accuracy: 0.8522\n",
      "\n",
      "Epoch 00009: val_loss did not improve from 0.32062\n",
      "Epoch 10/10\n",
      "1972/1972 - 19s - loss: 0.0239 - accuracy: 0.9913 - val_loss: 1.0726 - val_accuracy: 0.8537\n",
      "\n",
      "Epoch 00010: val_loss did not improve from 0.32062\n"
     ]
    }
   ],
   "source": [
    "history_bilstm_w2v = model_bilstm_w2v.fit(\n",
    "    partial_x_train, partial_y_train,\n",
    "    validation_data=(x_val, y_val),\n",
    "    epochs=10,\n",
    "    batch_size=64,\n",
    "    callbacks=[checkpoint_bilstm_w2v],\n",
    "    verbose=2\n",
    ")"
   ]
  },
  {
   "cell_type": "markdown",
   "id": "b17a4217",
   "metadata": {},
   "source": [
    "모델 평가"
   ]
  },
  {
   "cell_type": "code",
   "execution_count": 324,
   "id": "99dcee93",
   "metadata": {},
   "outputs": [
    {
     "name": "stdout",
     "output_type": "stream",
     "text": [
      "1537/1537 - 4s - loss: 0.3230 - accuracy: 0.8612\n",
      "[0.3229607343673706, 0.8611794710159302]\n",
      "1537/1537 - 5s - loss: 0.3238 - accuracy: 0.8623\n",
      "[0.32383665442466736, 0.8623390197753906]\n",
      "1537/1537 - 3s - loss: 0.3416 - accuracy: 0.8541\n",
      "[0.3416331112384796, 0.8540797829627991]\n"
     ]
    }
   ],
   "source": [
    "from tensorflow.keras.models import load_model\n",
    "\n",
    "best_lstm_w2v = load_model('/workspace/userdisk/sentiment_classification/best_model_lstm_w2v.keras')\n",
    "best_cnn_w2v = load_model('/workspace/userdisk/sentiment_classification/best_model_cnn_w2v.keras')\n",
    "best_bilstm_w2v =load_model('/workspace/userdisk/sentiment_classification/best_model_bilstm_w2v.keras')\n",
    "\n",
    "results_lstm_w2v = best_lstm_w2v.evaluate(X_test,  y_test, verbose=2)\n",
    "print(results_lstm_w2v)\n",
    "results_bilstm_w2v= best_bilstm_w2v.evaluate(X_test,  y_test, verbose=2)\n",
    "print(results_bilstm_w2v)\n",
    "results_cnn_w2v = best_cnn_w2v.evaluate(X_test,  y_test, verbose=2)\n",
    "print(results_cnn_w2v)"
   ]
  },
  {
   "cell_type": "markdown",
   "id": "032805c7",
   "metadata": {},
   "source": [
    "## 최종 모델 Summary"
   ]
  },
  {
   "cell_type": "code",
   "execution_count": 349,
   "id": "c13ddd50",
   "metadata": {
    "scrolled": true
   },
   "outputs": [
    {
     "name": "stdout",
     "output_type": "stream",
     "text": [
      "Model: \"sequential_67\"\n",
      "_________________________________________________________________\n",
      "Layer (type)                 Output Shape              Param #   \n",
      "=================================================================\n",
      "embedding_33 (Embedding)     (None, None, 100)         1000000   \n",
      "_________________________________________________________________\n",
      "bidirectional_15 (Bidirectio (None, 256)               234496    \n",
      "_________________________________________________________________\n",
      "dense_139 (Dense)            (None, 1)                 257       \n",
      "=================================================================\n",
      "Total params: 1,234,753\n",
      "Trainable params: 1,234,753\n",
      "Non-trainable params: 0\n",
      "_________________________________________________________________\n",
      "Model: \"sequential_66\"\n",
      "_________________________________________________________________\n",
      "Layer (type)                 Output Shape              Param #   \n",
      "=================================================================\n",
      "embedding_33 (Embedding)     (None, None, 100)         1000000   \n",
      "_________________________________________________________________\n",
      "lstm_45 (LSTM)               (None, 128)               117248    \n",
      "_________________________________________________________________\n",
      "dense_138 (Dense)            (None, 1)                 129       \n",
      "=================================================================\n",
      "Total params: 1,117,377\n",
      "Trainable params: 1,117,377\n",
      "Non-trainable params: 0\n",
      "_________________________________________________________________\n",
      "Model: \"sequential_73\"\n",
      "_________________________________________________________________\n",
      "Layer (type)                 Output Shape              Param #   \n",
      "=================================================================\n",
      "embedding_33 (Embedding)     (None, None, 100)         1000000   \n",
      "_________________________________________________________________\n",
      "conv1d_49 (Conv1D)           (None, None, 128)         89728     \n",
      "_________________________________________________________________\n",
      "max_pooling1d_23 (MaxPooling (None, None, 128)         0         \n",
      "_________________________________________________________________\n",
      "conv1d_50 (Conv1D)           (None, None, 64)          57408     \n",
      "_________________________________________________________________\n",
      "global_max_pooling1d_26 (Glo (None, 64)                0         \n",
      "_________________________________________________________________\n",
      "dense_147 (Dense)            (None, 1)                 65        \n",
      "=================================================================\n",
      "Total params: 1,147,201\n",
      "Trainable params: 1,147,201\n",
      "Non-trainable params: 0\n",
      "_________________________________________________________________\n"
     ]
    }
   ],
   "source": [
    "best_bilstm_w2v.summary()\n",
    "best_lstm_w2v.summary()\n",
    "best_cnn_w2v.summary()"
   ]
  },
  {
   "cell_type": "markdown",
   "id": "e4605d2d",
   "metadata": {},
   "source": [
    "- word2vec 적용 이전 CNN-1d에서 85.5% ACC 달성함\n",
    "- word2vec 적용 후  CNN-1d에서 86.23%% ACC 달성함\n",
    "- 전체적으로 성능 소폭 오름"
   ]
  },
  {
   "cell_type": "markdown",
   "id": "1c7e0ce8",
   "metadata": {},
   "source": [
    "## 임베딩 비교"
   ]
  },
  {
   "cell_type": "code",
   "execution_count": 347,
   "id": "968189f0",
   "metadata": {},
   "outputs": [
    {
     "name": "stdout",
     "output_type": "stream",
     "text": [
      "✅ 임베딩 벡터 저장 완료: /workspace/userdisk/sentiment_classification/w2v_lstm_emb.txt\n",
      "✅ 임베딩 벡터 저장 완료: /workspace/userdisk/sentiment_classification/w2v_bilstm_emb.txt\n",
      "✅ 임베딩 벡터 저장 완료: /workspace/userdisk/sentiment_classification/w2v_cnn_emb.txt\n"
     ]
    }
   ],
   "source": [
    "save_all_model_embeddings(\n",
    "    models_dict={\n",
    "        \"lstm_emb\": best_lstm_w2v,\n",
    "        \"bilstm_emb\": best_bilstm_w2v,\n",
    "        \"cnn_emb\": best_cnn_w2v\n",
    "    },\n",
    "    word_to_index=word_to_index,\n",
    "    index_to_word=index_to_word,\n",
    "    word_vector_dim=word_vector_dim,\n",
    "    vocab_size=vocab_size,\n",
    "    base_path=\"/workspace/userdisk/sentiment_classification\"\n",
    ")"
   ]
  },
  {
   "cell_type": "code",
   "execution_count": 352,
   "id": "aa6c43d0",
   "metadata": {},
   "outputs": [],
   "source": [
    "# 저장된 모델별 임베딩 불러오기\n",
    "word_vectors_lstm =  Word2VecKeyedVectors.load_word2vec_format(\n",
    "    \"/workspace/userdisk/sentiment_classification/w2v_lstm_emb.txt\", binary=False\n",
    ")\n",
    "\n",
    "word_vectors_bilstm = Word2VecKeyedVectors.load_word2vec_format(\n",
    "    \"/workspace/userdisk/sentiment_classification/w2v_bilstm_emb.txt\", binary=False\n",
    ")\n",
    "\n",
    "word_vectors_cnn = Word2VecKeyedVectors.load_word2vec_format(\n",
    "    \"/workspace/userdisk/sentiment_classification/w2v_cnn_emb.txt\", binary=False\n",
    ")"
   ]
  },
  {
   "cell_type": "markdown",
   "id": "21ccb338",
   "metadata": {},
   "source": [
    "Pretrained embadding 사용 전"
   ]
  },
  {
   "cell_type": "code",
   "execution_count": 365,
   "id": "c38fd7f5",
   "metadata": {},
   "outputs": [
    {
     "name": "stdout",
     "output_type": "stream",
     "text": [
      "LSTM\n",
      "\n",
      "[ 스토리 ] 와 유사한 단어 Top 10:\n",
      "\n",
      "  유혼         | 유사도: 0.7656\n",
      "  컨데         | 유사도: 0.7455\n",
      "  성질         | 유사도: 0.7385\n",
      "  라구         | 유사도: 0.7372\n",
      "  잠자         | 유사도: 0.7347\n",
      "  관람객        | 유사도: 0.7283\n",
      "  허무맹랑       | 유사도: 0.7193\n",
      "  늘          | 유사도: 0.7171\n",
      "  이이         | 유사도: 0.7167\n",
      "  死          | 유사도: 0.7159\n",
      "\n",
      "BiLSTM\n",
      "\n",
      "[ 스토리 ] 와 유사한 단어 Top 10:\n",
      "\n",
      "  주저         | 유사도: 0.9303\n",
      "  뭔지         | 유사도: 0.9147\n",
      "  김신         | 유사도: 0.9097\n",
      "  사태         | 유사도: 0.9054\n",
      "  해소         | 유사도: 0.9047\n",
      "  이득         | 유사도: 0.9014\n",
      "  아앙         | 유사도: 0.8999\n",
      "  삼총사        | 유사도: 0.8991\n",
      "  미리         | 유사도: 0.8975\n",
      "  ~~~~~~~    | 유사도: 0.8967\n",
      "\n",
      "CNN\n",
      "\n",
      "[ 스토리 ] 와 유사한 단어 Top 10:\n",
      "\n",
      "  어지간히       | 유사도: 0.8368\n",
      "  오타쿠        | 유사도: 0.8312\n",
      "  영환         | 유사도: 0.8274\n",
      "  영          | 유사도: 0.8189\n",
      "  버렸         | 유사도: 0.8143\n",
      "  피우         | 유사도: 0.8061\n",
      "  그린         | 유사도: 0.8043\n",
      "  정직         | 유사도: 0.8018\n",
      "  지어다        | 유사도: 0.8016\n",
      "  내고         | 유사도: 0.7996\n"
     ]
    }
   ],
   "source": [
    "print(\"LSTM\")\n",
    "print_similar_words(word_vectors_lstm_, \"스토리\")\n",
    "\n",
    "print(\"\\nBiLSTM\")\n",
    "print_similar_words(word_vectors_bilstm_, \"스토리\")\n",
    "\n",
    "print(\"\\nCNN\")\n",
    "print_similar_words(word_vectors_cnn_, \"스토리\")\n"
   ]
  },
  {
   "cell_type": "markdown",
   "id": "ad88da34",
   "metadata": {},
   "source": [
    "W2V embadding finetunned 이후"
   ]
  },
  {
   "cell_type": "code",
   "execution_count": 357,
   "id": "562ae802",
   "metadata": {},
   "outputs": [
    {
     "name": "stdout",
     "output_type": "stream",
     "text": [
      "LSTM\n",
      "\n",
      "[ 스토리 ] 와 유사한 단어 Top 10:\n",
      "\n",
      "  줄거리        | 유사도: 0.7550\n",
      "  시나리오       | 유사도: 0.7318\n",
      "  캐릭터        | 유사도: 0.7208\n",
      "  어드벤처       | 유사도: 0.6652\n",
      "  엔딩         | 유사도: 0.6575\n",
      "  아바타        | 유사도: 0.6545\n",
      "  판타지        | 유사도: 0.6545\n",
      "  코믹         | 유사도: 0.6485\n",
      "  유머         | 유사도: 0.6480\n",
      "  플레이        | 유사도: 0.6461\n",
      "\n",
      "BiLSTM\n",
      "\n",
      "[ 스토리 ] 와 유사한 단어 Top 10:\n",
      "\n",
      "  줄거리        | 유사도: 0.7532\n",
      "  시나리오       | 유사도: 0.7366\n",
      "  캐릭터        | 유사도: 0.7078\n",
      "  어드벤처       | 유사도: 0.6641\n",
      "  판타지        | 유사도: 0.6612\n",
      "  에피소드       | 유사도: 0.6548\n",
      "  엔딩         | 유사도: 0.6524\n",
      "  코믹         | 유사도: 0.6456\n",
      "  플레이        | 유사도: 0.6445\n",
      "  유머         | 유사도: 0.6362\n",
      "\n",
      "CNN\n",
      "\n",
      "[ 스토리 ] 와 유사한 단어 Top 10:\n",
      "\n",
      "  줄거리        | 유사도: 0.7372\n",
      "  시나리오       | 유사도: 0.7310\n",
      "  캐릭터        | 유사도: 0.6969\n",
      "  판타지        | 유사도: 0.6727\n",
      "  에피소드       | 유사도: 0.6653\n",
      "  엔딩         | 유사도: 0.6450\n",
      "  어드벤처       | 유사도: 0.6449\n",
      "  코믹         | 유사도: 0.6422\n",
      "  플레이        | 유사도: 0.6420\n",
      "  라이프        | 유사도: 0.6412\n"
     ]
    }
   ],
   "source": [
    "print(\"LSTM\")\n",
    "print_similar_words(word_vectors_lstm, \"스토리\")\n",
    "\n",
    "print(\"\\nBiLSTM\")\n",
    "print_similar_words(word_vectors_bilstm, \"스토리\")\n",
    "\n",
    "print(\"\\nCNN\")\n",
    "print_similar_words(word_vectors_cnn, \"스토리\")\n"
   ]
  },
  {
   "cell_type": "markdown",
   "id": "b320f73d",
   "metadata": {},
   "source": [
    "- word2vec를 사용하기 이전에는 특정 배우, 스토리에 대한 일반적이지 않은 상세 속성(허무맹랑,오타쿠,물, 유작 ...)이 유사도가 높게 측정되었다.\n",
    "- 사용 이후 pretrained된 결과 스토리의 일반적인 속성, 유의어 단어에 대한 유사도가 높게 측정되었다. \n",
    "\n",
    "- 분류성능에서 매우 큰 변화를 보이지는 않았으나, word2vec를 적용한 후 조금 더 광범위하고 일반적인 특성을 잘 반영하고 있는 임베딩을 사용할 수 있었다."
   ]
  },
  {
   "cell_type": "markdown",
   "id": "4444a52a",
   "metadata": {},
   "source": [
    "# 회고\n",
    "\n",
    "- 임베딩 적용 후 feature크기가 많아졌으니 당연히 모델이 커져야 된다는 생각을 하지 못했었다. 이것저것 시도하다가 모델 사이즈를 키우니까 학습이 잘되었다. \n",
    "\n"
   ]
  }
 ],
 "metadata": {
  "kernelspec": {
   "display_name": "Python 3",
   "language": "python",
   "name": "python3"
  },
  "language_info": {
   "codemirror_mode": {
    "name": "ipython",
    "version": 3
   },
   "file_extension": ".py",
   "mimetype": "text/x-python",
   "name": "python",
   "nbconvert_exporter": "python",
   "pygments_lexer": "ipython3",
   "version": "3.12.9"
  }
 },
 "nbformat": 4,
 "nbformat_minor": 5
}
